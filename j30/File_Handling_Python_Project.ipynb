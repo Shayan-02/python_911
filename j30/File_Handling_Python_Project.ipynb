{
 "cells": [
  {
   "cell_type": "markdown",
   "id": "b8eccd0b",
   "metadata": {},
   "source": [
    "\n",
    "    ## 1. کار با فایل‌های متنی (`txt`)\n",
    "\n",
    "    ### خواندن فایل متنی\n",
    "    برای خواندن یک فایل متنی، از تابع `open()` استفاده می‌کنیم و سپس با متدهای مختلف مانند `read()` یا `readlines()` فایل را می‌خوانیم.\n",
    "    "
   ]
  },
  {
   "cell_type": "code",
   "execution_count": 3,
   "id": "38ddcc0a",
   "metadata": {},
   "outputs": [
    {
     "name": "stdout",
     "output_type": "stream",
     "text": [
      "\n"
     ]
    }
   ],
   "source": [
    "\n",
    "# خواندن فایل به صورت کامل\n",
    "with open(\"file.txt\", \"r\") as file:\n",
    "    content = file.read()\n",
    "    print(content)\n",
    "\n",
    "# خواندن فایل خط به خط\n",
    "with open(\"file.txt\", \"r\") as file:\n",
    "    for line in file:\n",
    "        print(line.strip())"
   ]
  },
  {
   "cell_type": "markdown",
   "id": "b951cd96",
   "metadata": {},
   "source": [
    "\n",
    "    ### نوشتن در فایل متنی\n",
    "    برای نوشتن در فایل، از حالت‌های `w` (برای نوشتن جدید و پاک کردن محتویات قبلی) و `a` (برای اضافه کردن به انتهای فایل) استفاده می‌کنیم.\n",
    "    "
   ]
  },
  {
   "cell_type": "code",
   "execution_count": 4,
   "id": "f9a020ae",
   "metadata": {},
   "outputs": [],
   "source": [
    "\n",
    "# نوشتن در فایل (پاک کردن محتوای قبلی)\n",
    "with open(\"output.txt\", \"w\") as file:\n",
    "    file.write(\"Hello, World!\")\n",
    "    file.write(\"This is a test.\")\n",
    "\n",
    "# اضافه کردن به فایل (بدون پاک کردن محتوای قبلی)\n",
    "with open(\"output.txt\", \"a\") as file:\n",
    "    file.write(\"Adding new content.\")\n",
    "    "
   ]
  },
  {
   "cell_type": "markdown",
   "id": "75ab7c04",
   "metadata": {},
   "source": [
    "\n",
    "    ## 2. کار با فایل‌های CSV\n",
    "\n",
    "    پایتون کتابخانه‌ی `csv` را برای کار با فایل‌های CSV فراهم کرده است.\n",
    "\n",
    "    ### خواندن فایل CSV\n",
    "    "
   ]
  },
  {
   "cell_type": "code",
   "execution_count": 3,
   "id": "2ff1c5d0",
   "metadata": {},
   "outputs": [
    {
     "name": "stdout",
     "output_type": "stream",
     "text": [
      "['Name', 'Age']\n",
      "['Alice', '30']\n",
      "['Bob', '25']\n",
      "['Charlie', '35']\n"
     ]
    }
   ],
   "source": [
    "\n",
    "import csv\n",
    "\n",
    "# خواندن فایل CSV\n",
    "with open('output.csv', mode='r') as file:\n",
    "    reader = csv.reader(file)\n",
    "    for row in reader:\n",
    "        print(row)  # هر ردیف یک لیست است\n",
    "    "
   ]
  },
  {
   "cell_type": "markdown",
   "id": "86400fcb",
   "metadata": {},
   "source": [
    "\n",
    "    ### نوشتن در فایل CSV\n",
    "    "
   ]
  },
  {
   "cell_type": "code",
   "execution_count": 2,
   "id": "ab35a558",
   "metadata": {},
   "outputs": [],
   "source": [
    "\n",
    "import csv\n",
    "\n",
    "# نوشتن در فایل CSV\n",
    "data = [[\"Name\", \"Age\"], [\"Alice\", 30], [\"Bob\", 25], [\"Charlie\", 35]]\n",
    "\n",
    "with open('output.csv', mode='w', newline='') as file:\n",
    "    writer = csv.writer(file)\n",
    "    writer.writerows(data)\n",
    "    "
   ]
  },
  {
   "cell_type": "markdown",
   "id": "f8032aa3",
   "metadata": {},
   "source": [
    "\n",
    "    ## 3. کار با فایل‌های JSON\n",
    "\n",
    "    پایتون کتابخانه‌ی `json` را برای کار با فایل‌های JSON ارائه می‌دهد.\n",
    "\n",
    "    ### خواندن فایل JSON\n",
    "    "
   ]
  },
  {
   "cell_type": "code",
   "execution_count": null,
   "id": "9214aefd",
   "metadata": {},
   "outputs": [
    {
     "name": "stdout",
     "output_type": "stream",
     "text": [
      "{'name': 'Alice', 'age': 30, 'city': 'New York'}\n"
     ]
    }
   ],
   "source": [
    "\n",
    "import json\n",
    "\n",
    "# خواندن داده‌ها از فایل JSON\n",
    "with open('data.json', 'r') as file:\n",
    "    data = json.load(file)\n",
    "    print(data)"
   ]
  },
  {
   "cell_type": "markdown",
   "id": "8fed58cb",
   "metadata": {},
   "source": [
    "\n",
    "    ### نوشتن در فایل JSON\n",
    "    "
   ]
  },
  {
   "cell_type": "code",
   "execution_count": null,
   "id": "6dd40ec2",
   "metadata": {},
   "outputs": [],
   "source": [
    "\n",
    "import json\n",
    "\n",
    "# نوشتن داده‌ها در فایل JSON\n",
    "data = {\"name\": \"Alice\", \"age\": 30, \"city\": \"New York\"}\n",
    "\n",
    "with open('data.json', 'w') as file:\n",
    "    json.dump(data, file, indent=3)\n",
    "    "
   ]
  },
  {
   "cell_type": "markdown",
   "id": "8eab14fa",
   "metadata": {},
   "source": [
    "\n",
    "    ## 4. پروژه عملی: برنامه قرعه کشی با استفاده از فایل‌های JSON، CSV و TXT\n",
    "\n",
    "    در این پروژه، یک برنامه‌ی قرعه کشی ایجاد خواهیم کرد که به شما این امکان را می‌دهد تا از روی فایل‌های JSON، CSV و TXT شرکت‌کنندگان را انتخاب کرده و تعدادی برنده تصادفی از بین آن‌ها معرفی کنید.\n",
    "    "
   ]
  },
  {
   "cell_type": "markdown",
   "id": "46a7b8bb",
   "metadata": {},
   "source": [
    "\n",
    "    ### گام اول: ایجاد فایل‌های ورودی\n",
    "\n",
    "    ابتدا فایل‌های ورودی (JSON، CSV، TXT) را برای شرکت‌کنندگان ایجاد می‌کنیم.\n",
    "\n",
    "    #### فایل JSON (`participants.json`)\n",
    "    "
   ]
  },
  {
   "cell_type": "code",
   "execution_count": 8,
   "id": "1711f1fd",
   "metadata": {},
   "outputs": [],
   "source": [
    "\n",
    "# JSON data to save\n",
    "json_data = '''\n",
    "[\n",
    "    {\"name\": \"Alice\"},\n",
    "    {\"name\": \"Bob\"},\n",
    "    {\"name\": \"Charlie\"},\n",
    "    {\"name\": \"David\"},\n",
    "    {\"name\": \"Eve\"}\n",
    "]\n",
    "'''\n",
    "\n",
    "with open(\"participants.json\", \"w\") as f:\n",
    "    f.write(json_data)\n",
    "    "
   ]
  },
  {
   "cell_type": "markdown",
   "id": "8daa9ecc",
   "metadata": {},
   "source": [
    "\n",
    "    #### فایل CSV (`participants.csv`)\n",
    "    "
   ]
  },
  {
   "cell_type": "code",
   "execution_count": 14,
   "id": "47bb94a7",
   "metadata": {},
   "outputs": [],
   "source": [
    "\n",
    "# CSV data to save\n",
    "csv_data = [\n",
    "    [\"name\"],\n",
    "    [\"Alice\"],\n",
    "    [\"Bob\"],\n",
    "    [\"Charlie\"],\n",
    "    [\"David\"],\n",
    "    [\"Eve\"]\n",
    "]\n",
    "\n",
    "import csv\n",
    "\n",
    "with open('participants.csv', mode='w', newline='') as file:\n",
    "    writer = csv.writer(file)\n",
    "    writer.writerows(csv_data)\n",
    "    "
   ]
  },
  {
   "cell_type": "markdown",
   "id": "a43e45e4",
   "metadata": {},
   "source": [
    "\n",
    "    #### فایل TXT (`participants.txt`)\n",
    "    "
   ]
  },
  {
   "cell_type": "code",
   "execution_count": 15,
   "id": "dee370b2",
   "metadata": {},
   "outputs": [],
   "source": [
    "\n",
    "# TXT data to save\n",
    "txt_data = '''\n",
    "Alice\n",
    "Bob\n",
    "Charlie\n",
    "David\n",
    "Eve\n",
    "'''\n",
    "\n",
    "with open(\"participants.txt\", \"w\") as f:\n",
    "    f.write(txt_data)\n",
    "    "
   ]
  },
  {
   "cell_type": "markdown",
   "id": "b6f35763",
   "metadata": {},
   "source": [
    "\n",
    "    ### گام دوم: ساخت رابط گرافیکی با استفاده از Tkinter\n",
    "\n",
    "    حالا از کتابخانه‌ی `tkinter` برای ساخت رابط گرافیکی استفاده خواهیم کرد. برنامه به کاربر این امکان را می‌دهد که فایل ورودی را بارگذاری کرده و تعداد برندگان را انتخاب کند.\n",
    "    "
   ]
  },
  {
   "cell_type": "code",
   "execution_count": 2,
   "id": "be1c6794",
   "metadata": {},
   "outputs": [],
   "source": [
    "import tkinter as tk\n",
    "from tkinter import messagebox\n",
    "import random\n",
    "import json\n",
    "import csv\n",
    "\n",
    "# تابع برای خواندن فایل JSON\n",
    "def read_json_file(file_name):\n",
    "    with open(file_name, 'r', encoding='utf-8') as file:\n",
    "        return [entry['name'] for entry in json.load(file)]\n",
    "\n",
    "# تابع برای خواندن فایل CSV\n",
    "def read_csv_file(file_name):\n",
    "    with open(file_name, \"r\", encoding=\"utf-8\") as file:\n",
    "        reader = csv.reader(file)\n",
    "        next(reader)  # Skip header\n",
    "        return [row[0] for row in reader]\n",
    "\n",
    "# تابع برای خواندن فایل TXT\n",
    "def read_txt_file(file_name):\n",
    "    with open(file_name, \"r\", encoding=\"utf-8\") as file:\n",
    "        return [line.strip() for line in file]\n",
    "\n",
    "# تابع برای انجام قرعه‌کشی\n",
    "def draw_winners():\n",
    "    file_name = file_entry.get()\n",
    "    num_winners = int(winners_entry.get())\n",
    "\n",
    "    if file_name.endswith(\".json\"):\n",
    "        participants = read_json_file(file_name)\n",
    "    elif file_name.endswith(\".csv\"):\n",
    "        participants = read_csv_file(file_name)\n",
    "    elif file_name.endswith(\".txt\"):\n",
    "        participants = read_txt_file(file_name)\n",
    "    else:\n",
    "        messagebox.showerror(\"Error\", \"Unsupported file type\")\n",
    "        return\n",
    "\n",
    "    if num_winners > len(participants):\n",
    "        messagebox.showerror(\"Error\", \"Number of winners exceeds number of participants\")\n",
    "        return\n",
    "\n",
    "    winners = random.sample(participants, num_winners)\n",
    "\n",
    "    result_text = \"\".join(winners)\n",
    "    messagebox.showinfo(\"Winners\", f\"The winners are: {result_text}\")\n",
    "    result_label.config(text=f\"Selected Winners: {result_text}\")\n",
    "\n",
    "# ایجاد پنجره اصلی\n",
    "root = tk.Tk()\n",
    "root.title(\"Lottery Draw Program\")\n",
    "\n",
    "# ورودی برای نام فایل\n",
    "file_label = tk.Label(root, text=\"Enter file name (json/csv/txt):\")\n",
    "file_label.pack()\n",
    "\n",
    "file_entry = tk.Entry(root, width=50)\n",
    "file_entry.pack()\n",
    "\n",
    "# ورودی برای تعداد برندگان\n",
    "winners_label = tk.Label(root, text=\"Enter number of winners:\")\n",
    "winners_label.pack()\n",
    "\n",
    "winners_entry = tk.Entry(root, width=50)\n",
    "winners_entry.pack()\n",
    "\n",
    "# دکمه انجام قرعه‌کشی\n",
    "draw_button = tk.Button(root, text=\"Draw Winners\", command=draw_winners)\n",
    "draw_button.pack()\n",
    "\n",
    "# نمایش نتایج در برچسب\n",
    "result_label = tk.Label(root, text=\"Selected Winners:\")\n",
    "result_label.pack()\n",
    "\n",
    "# اجرای رابط گرافیکی\n",
    "root.mainloop()"
   ]
  }
 ],
 "metadata": {
  "kernelspec": {
   "display_name": "Python 3",
   "language": "python",
   "name": "python3"
  },
  "language_info": {
   "codemirror_mode": {
    "name": "ipython",
    "version": 3
   },
   "file_extension": ".py",
   "mimetype": "text/x-python",
   "name": "python",
   "nbconvert_exporter": "python",
   "pygments_lexer": "ipython3",
   "version": "3.13.1"
  }
 },
 "nbformat": 4,
 "nbformat_minor": 5
}
