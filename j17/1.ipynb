{
 "cells": [
  {
   "cell_type": "code",
   "execution_count": 15,
   "metadata": {},
   "outputs": [],
   "source": [
    "from random import *"
   ]
  },
  {
   "cell_type": "code",
   "execution_count": 16,
   "metadata": {},
   "outputs": [
    {
     "name": "stdout",
     "output_type": "stream",
     "text": [
      "عدد درست کوچکتر است\n",
      "عدد درست کوچکتر است\n",
      "بردی\n"
     ]
    }
   ],
   "source": [
    "start = int(input(\"شروع بازه را وارد کنید: \"))\n",
    "end = int(input(\"پایان بازه را وارد کنید: \"))\n",
    "\n",
    "adad_dorost = randint(start, end)\n",
    "\n",
    "for _ in range(1, 6):\n",
    "    a = int(input(\"یک عدد انتخاب کنید: \"))\n",
    "    if start <= a <= end:\n",
    "        if adad_dorost == a:\n",
    "            print(\"بردی\")\n",
    "            break\n",
    "        else:\n",
    "            if adad_dorost < a:\n",
    "                print(\"عدد درست کوچکتر است\")\n",
    "            elif adad_dorost > a:\n",
    "                print(\"عدد درست بزرگتر است\")\n",
    "    else:\n",
    "        print(\"عدد انتخاب شده داخل بازه اعداد صحیح نیست\")\n",
    "else:\n",
    "    print(\"باختی\", \"عدد درست: \", adad_dorost)\n"
   ]
  },
  {
   "cell_type": "code",
   "execution_count": 18,
   "metadata": {},
   "outputs": [],
   "source": [
    "import random as r"
   ]
  },
  {
   "cell_type": "code",
   "execution_count": 37,
   "metadata": {},
   "outputs": [
    {
     "name": "stdout",
     "output_type": "stream",
     "text": [
      "انتخاب تو قیچی و انتخاب کامپیوتر سنگ پس بردی\n"
     ]
    },
    {
     "ename": "",
     "evalue": "",
     "output_type": "error",
     "traceback": [
      "\u001b[1;31mThe Kernel crashed while executing code in the current cell or a previous cell. \n",
      "\u001b[1;31mPlease review the code in the cell(s) to identify a possible cause of the failure. \n",
      "\u001b[1;31mClick <a href='https://aka.ms/vscodeJupyterKernelCrash'>here</a> for more info. \n",
      "\u001b[1;31mView Jupyter <a href='command:jupyter.viewOutput'>log</a> for further details."
     ]
    }
   ],
   "source": [
    "hagh_entekhab = [\"سنگ\", \"کاغذ\", \"قیچی\"]\n",
    "entekhab_computer = r.choice(hagh_entekhab)\n",
    "entekhab_karbar = input(\"از بین سنگ و کاغذ و قیچی یکی را انتخاب کنید: \")\n",
    "if entekhab_karbar in hagh_entekhab:\n",
    "    if entekhab_karbar == entekhab_computer:\n",
    "        print(\"مساوی شدید\")\n",
    "    elif entekhab_karbar == hagh_entekhab[0] and entekhab_computer == hagh_entekhab[1]:\n",
    "        print(f\"انتخاب تو {hagh_entekhab[0]} و انتخاب کامپیوتر {hagh_entekhab[1]} پس باختی\")\n",
    "    elif entekhab_karbar == hagh_entekhab[0] and entekhab_computer == hagh_entekhab[2]:\n",
    "        print(f\"انتخاب تو {hagh_entekhab[0]} و انتخاب کامپیوتر {hagh_entekhab[2]} پس بردی\")\n",
    "    elif entekhab_karbar == hagh_entekhab[1] and entekhab_computer == hagh_entekhab[0]:\n",
    "        print(f\"انتخاب تو {hagh_entekhab[1]} و انتخاب کامپیوتر {hagh_entekhab[0]} پس بردی\")\n",
    "    elif entekhab_karbar == hagh_entekhab[1] and entekhab_computer == hagh_entekhab[2]:\n",
    "        print(f\"انتخاب تو {hagh_entekhab[1]} و انتخاب کامپیوتر {hagh_entekhab[2]} پس باختی\")\n",
    "    elif entekhab_karbar == hagh_entekhab[2] and entekhab_computer == hagh_entekhab[0]:\n",
    "        print(f\"انتخاب تو {hagh_entekhab[2]} و انتخاب کامپیوتر {hagh_entekhab[0]} پس بردی\")\n",
    "    elif entekhab_karbar == hagh_entekhab[2] and entekhab_computer == hagh_entekhab[1]:\n",
    "        print(f\"انتخاب تو {hagh_entekhab[2]} و انتخاب کامپیوتر {hagh_entekhab[1]} پس باختی\")"
   ]
  }
 ],
 "metadata": {
  "kernelspec": {
   "display_name": "Python 3",
   "language": "python",
   "name": "python3"
  },
  "language_info": {
   "codemirror_mode": {
    "name": "ipython",
    "version": 3
   },
   "file_extension": ".py",
   "mimetype": "text/x-python",
   "name": "python",
   "nbconvert_exporter": "python",
   "pygments_lexer": "ipython3",
   "version": "3.13.1"
  }
 },
 "nbformat": 4,
 "nbformat_minor": 2
}
